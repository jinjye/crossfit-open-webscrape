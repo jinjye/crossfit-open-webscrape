{
 "cells": [
  {
   "cell_type": "code",
   "execution_count": null,
   "id": "e8ac7ae2-9d0e-4459-ac21-2f3026b66a45",
   "metadata": {},
   "outputs": [],
   "source": [
    "from selenium import webdriver\n",
    "from bs4 import BeautifulSoup\n",
    "import pandas as pd\n",
    "from time import sleep\n",
    "from selenium.webdriver.common.by import By\n",
    "from selenium.webdriver.support.ui import Select\n"
   ]
  },
  {
   "cell_type": "code",
   "execution_count": null,
   "id": "c64714d3-6ea0-4ad6-8d14-89031ba83562",
   "metadata": {},
   "outputs": [],
   "source": [
    "driver = webdriver.Chrome(executable_path=r\"chromedriver.exe\")\n",
    "driver.get(website_path)"
   ]
  },
  {
   "cell_type": "code",
   "execution_count": null,
   "id": "b6bbc463-1ee9-4c4e-ae90-b69d6a794e55",
   "metadata": {},
   "outputs": [],
   "source": [
    "#list of column \n",
    "firstname = []\n",
    "lastname = []\n",
    "country = []\n",
    "age = []\n",
    "height_weight = []\n",
    "open221 = []\n",
    "open222 = []\n",
    "open223 = []\n",
    "age_text = 'Age'\n",
    "height_weight_text_lbs = ' lb'\n",
    "height_weight_text_kg = ' kg'\n",
    "height_weight_text_cm = ' cm'\n",
    "height_weight_text_inch = ' inch'\n",
    "\n"
   ]
  },
  {
   "cell_type": "code",
   "execution_count": null,
   "id": "58fdfde3-2986-40bb-be1b-3825aec1b7fc",
   "metadata": {},
   "outputs": [],
   "source": [
    "#close prompt \n",
    "close_prompt = driver.find_element_by_xpath('/html/body/div[5]/div[2]/div[1]')\n",
    "close_prompt.click()\n",
    "\n"
   ]
  },
  {
   "cell_type": "code",
   "execution_count": null,
   "id": "623f7e61-97ea-41bd-9a81-9042fdb2b778",
   "metadata": {},
   "outputs": [],
   "source": [
    "changefilter = Select(driver.find_element_by_xpath('/html/body/div[4]/div[2]/div[1]/div/div[2]/div[4]/div/select'))\n",
    "changefilter.select_by_visible_text('Women')\n",
    "changefilter.select_by_value('1')"
   ]
  },
  {
   "cell_type": "code",
   "execution_count": null,
   "id": "1ba33533-8151-4f70-8ca9-8e532d3981cd",
   "metadata": {},
   "outputs": [],
   "source": [
    "#get last page \n",
    "lastpage = int(driver.find_element_by_xpath('/html/body/div[4]/div[2]/div[1]/div/div[3]/div/div[2]/a[6]').text)"
   ]
  },
  {
   "cell_type": "code",
   "execution_count": null,
   "id": "eb155304-74c6-404d-a34c-4149f4abe34d",
   "metadata": {},
   "outputs": [],
   "source": [
    "lastpage"
   ]
  },
  {
   "cell_type": "code",
   "execution_count": null,
   "id": "4a669bc8-bca7-445a-ac2f-28f840c6285e",
   "metadata": {},
   "outputs": [],
   "source": [
    "content = driver.page_source"
   ]
  },
  {
   "cell_type": "code",
   "execution_count": null,
   "id": "563d553d-c151-4493-8354-72e459efec4a",
   "metadata": {},
   "outputs": [],
   "source": [
    "soup = BeautifulSoup(content)"
   ]
  },
  {
   "cell_type": "code",
   "execution_count": null,
   "id": "4961a675-9059-48cc-b0b7-0ff07f4763a6",
   "metadata": {},
   "outputs": [],
   "source": [
    "for page in range(lastpage):\n",
    "    for item in soup.findAll('tr', attrs = {'class':'collapsed'}):\n",
    "        first_name = item.find('div', attrs={'class':'first-name'}).text\n",
    "\n",
    "        last_name = item.find('div', attrs={'class':'last-name'}).text\n",
    "\n",
    "        country_class = item.find('div', attrs={'class':'country-flag'})\n",
    "        try:\n",
    "            country_name = country_class.find('img')['title']\n",
    "        except:\n",
    "            country_name = ''\n",
    "\n",
    "        info_text = item.find('ul', attrs={'class':'info'})\n",
    "        age_string = info_text.find_all(lambda tag: tag.name == 'li' and age_text in tag.text)\n",
    "        height_weight_text = info_text.find_all(lambda tag: tag.name == 'li' and (height_weight_text_lbs in tag.text or \\\n",
    "                                                                             height_weight_text_kg in tag.text or \\\n",
    "                                                                            height_weight_text_cm in tag.text or \\\n",
    "                                                                            height_weight_text_inch in tag.text))\n",
    "\n",
    "        data_221 = item.find('td', attrs={'class':'score','data-workout':'1'})\n",
    "        data_221_reps = data_221.find_all(lambda tag: tag.name == 'span' and (':' in tag.text or \\\n",
    "                                                                              'rep' in tag.text or \\\n",
    "                                                                             '-' in tag.text))\n",
    "\n",
    "        data_222 = item.find('td', attrs={'class':'score','data-workout':'2'})\n",
    "        data_222_reps = data_222.find_all(lambda tag: tag.name == 'span' and (':' in tag.text or \\\n",
    "                                                                              'rep' in tag.text or \\\n",
    "                                                                             '-' in tag.text))\n",
    "\n",
    "        data_223 = item.find('td', attrs={'class':'score','data-workout':'3'})\n",
    "        data_223_reps = data_223.find_all(lambda tag: tag.name == 'span' and (':' in tag.text or \\\n",
    "                                                                              'rep' in tag.text or \\\n",
    "                                                                             '-' in tag.text))\n",
    "\n",
    "\n",
    "        firstname.append(first_name)\n",
    "\n",
    "        lastname.append(last_name)\n",
    "\n",
    "        country.append(country_name)\n",
    "\n",
    "        if len(age_string):\n",
    "            age.append(age_string[0].text)\n",
    "        else:\n",
    "            age.append('')\n",
    "\n",
    "        if len(height_weight_text):\n",
    "            height_weight.append(height_weight_text[0].text)\n",
    "        else:\n",
    "            height_weight.append('')\n",
    "\n",
    "        if len(data_221_reps):\n",
    "            open221.append(data_221_reps[0].text)\n",
    "        else:\n",
    "            open221.append('')\n",
    "\n",
    "        if len(data_222_reps):\n",
    "            open222.append(data_222_reps[0].text)\n",
    "        else:\n",
    "            open222.append('')\n",
    "\n",
    "        if len(data_223_reps):\n",
    "            open223.append(data_223_reps[0].text)\n",
    "        else:\n",
    "            open223.append('')\n",
    "\n",
    "    print(f'Name: {first_name} {last_name}, Country:{country_name}')\n",
    "\n",
    "    button = driver.find_element_by_xpath('/html/body/div[4]/div[2]/div[1]/div/div[3]/div/button').text\n",
    "    try:\n",
    "        if button == 'PREVIOUS':\n",
    "            nextButton = driver.find_element_by_xpath('/html/body/div[4]/div[2]/div[1]/div/div[3]/div/button[2]')\n",
    "        else:\n",
    "            nextButton = driver.find_element_by_xpath('/html/body/div[4]/div[2]/div[1]/div/div[3]/div/button')\n",
    "        nextButton.click()\n",
    "\n",
    "    \n",
    "    sleep(2)\n",
    "    content = driver.page_source\n",
    "    soup = BeautifulSoup(content)\n",
    "\n"
   ]
  },
  {
   "cell_type": "code",
   "execution_count": null,
   "id": "8cf75ae9-6e3f-4cfd-886f-f7d481b8ecd5",
   "metadata": {},
   "outputs": [],
   "source": [
    "df = pd.DataFrame({'First Name':firstname,'Last Name':lastname,'Country':country,'Age':age,'Height_Weight':height_weight,'22.1':open221, '22.2':open222,'22.3':open223}) \n",
    "df.to_csv('Men_Open_2022_data.csv', index = False, encoding = 'utf-8')"
   ]
  },
  {
   "cell_type": "code",
   "execution_count": null,
   "id": "2f73cd5e-020a-45a7-920c-9e7335b67c5a",
   "metadata": {},
   "outputs": [],
   "source": []
  }
 ],
 "metadata": {
  "kernelspec": {
   "display_name": "Python 3",
   "language": "python",
   "name": "python3"
  },
  "language_info": {
   "codemirror_mode": {
    "name": "ipython",
    "version": 3
   },
   "file_extension": ".py",
   "mimetype": "text/x-python",
   "name": "python",
   "nbconvert_exporter": "python",
   "pygments_lexer": "ipython3",
   "version": "3.8.8"
  }
 },
 "nbformat": 4,
 "nbformat_minor": 5
}
